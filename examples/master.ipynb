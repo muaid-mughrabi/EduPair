{
 "cells": [
  {
   "cell_type": "markdown",
   "metadata": {},
   "source": [
    "# Example Notebook\n",
    "This is the master version with annotations."
   ]
  },
  {
   "cell_type": "code",
   "execution_count": null,
   "metadata": {},
   "outputs": [],
   "source": [
    "# Single-line hide example\n",
    "x = 42  # HIDE\n",
    "print('This will be shown')"
   ]
  },
  {
   "cell_type": "code",
   "execution_count": null,
   "metadata": {},
   "outputs": [],
   "source": [
    "\n",
    "def secret_function():\n",
    "    # BEGIN HIDE\n",
    "    return 'classified'\n",
    "    # END HIDE\n",
    "\n",
    "print('Visible code')"
   ]
  },
  {
   "cell_type": "markdown",
   "id": "3853d956",
   "metadata": {},
   "source": [
    "Here is an Example for a MD cell hide functionality. Here `<!-- BEGIN HIDE -->` and `<!-- END HIDE -->` can be used to hide blocks.\n",
    "\n",
    "<!-- BEGIN HIDE -->\n",
    "This answer or explanation is only for instructors.\n",
    "It contains hints or conclusions.\n",
    "<!-- END HIDE -->\n",
    "\n",
    "Continue here."
   ]
  },
  {
   "cell_type": "code",
   "execution_count": null,
   "metadata": {},
   "outputs": [],
   "source": [
    "# Inline hide example\n",
    "result = compute()  # HIDE-INLINE\n",
    "print(result)"
   ]
  }
 ],
 "metadata": {
  "kernelspec": {
   "display_name": "Python 3",
   "language": "python",
   "name": "python3"
  },
  "language_info": {
   "name": "python",
   "version": "3.10"
  }
 },
 "nbformat": 4,
 "nbformat_minor": 5
}
